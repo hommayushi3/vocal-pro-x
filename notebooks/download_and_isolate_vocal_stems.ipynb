{
 "cells": [
  {
   "cell_type": "markdown",
   "id": "d76da502-c9c6-47be-91ab-f30a18b22247",
   "metadata": {},
   "source": [
    "## Download Music from YouTube"
   ]
  },
  {
   "cell_type": "code",
   "execution_count": 1,
   "id": "679c4740-14c4-45bc-8213-94d6e5e24517",
   "metadata": {},
   "outputs": [],
   "source": [
    "from pytube import YouTube, Playlist\n",
    "import os"
   ]
  },
  {
   "cell_type": "code",
   "execution_count": 2,
   "id": "ea6a17e1-0828-4c3f-8279-9c8f413887bd",
   "metadata": {},
   "outputs": [],
   "source": [
    "albums = {\n",
    "    'room_for_squares': 'https://www.youtube.com/playlist?list=OLAK5uy_mw6gr8JtGRz2JrzlXQbNfDRVJj3Boj2T4',\n",
    "    'heavier_things': 'https://www.youtube.com/playlist?list=OLAK5uy_n7l7pXF-Eq9o9-YNWKdvpx6tGMDfnUDeM',\n",
    "    'continuum': 'https://www.youtube.com/playlist?list=OLAK5uy_kaI0YyJ5d6qizFqDGEaT6j_rf48vnRoas',\n",
    "    'search_for_everything': 'https://www.youtube.com/playlist?list=OLAK5uy_n-8T74MKQteBno2ATFLNtDmyY41J-qsA0',\n",
    "    'sob_rock': 'https://www.youtube.com/playlist?list=OLAK5uy_kRmUW2axb9fNk3avjzMEAaMhOMHwT6L7I',\n",
    "    'paradise_valley': 'https://www.youtubwee.com/playlist?list=OLAK5uy_k_gm5kHwMHnvfitNt8BB43lM1UDnrBtXI',\n",
    "    'born_and_raised': 'https://www.youtube.com/playlist?list=OLAK5uy_llKmVqEIsI1GrfWn-cmvTu7N4vfsK-RBo'\n",
    "}"
   ]
  },
  {
   "cell_type": "code",
   "execution_count": 3,
   "id": "2b5a40da-2441-4758-abc1-1975b021bcb9",
   "metadata": {
    "tags": []
   },
   "outputs": [],
   "source": [
    "# for album in albums.values():\n",
    "#     playlist = Playlist(album)\n",
    "#     for video in playlist.videos:\n",
    "#         print(f'Downloading {video.title}...')\n",
    "#         stream = [stream for stream in video.streams.filter(only_audio = True) if stream.mime_type == \"audio/mp4\"][-1]\n",
    "#         print(f'Stream: {stream}')\n",
    "#         stream.download(output_path = f'{os.getcwd()}/mp4/')\n",
    "#         print('Done.\\n')"
   ]
  },
  {
   "cell_type": "markdown",
   "id": "0c09650c-1788-4cff-b8a8-0f06fe1d0b00",
   "metadata": {},
   "source": [
    "## Convert to `WAV` format "
   ]
  },
  {
   "cell_type": "code",
   "execution_count": 4,
   "id": "9a0d9d6b-8708-4151-88a0-ab56e92be0db",
   "metadata": {},
   "outputs": [],
   "source": [
    "# import subprocess\n",
    "# import sys\n",
    "\n",
    "# subprocess.run([\"audioconvert convert mp4/ wav/ --output-format .wav\"], shell = True)\n",
    "# subprocess.run([\"audioconvert convert mp4/ mp3/ --output-format .mp3\"], shell = True)"
   ]
  },
  {
   "cell_type": "markdown",
   "id": "c401620c-5f38-4092-8f8d-47b9dc4c7437",
   "metadata": {},
   "source": [
    "## Extract Vocal Stems"
   ]
  },
  {
   "cell_type": "code",
   "execution_count": 5,
   "id": "15f39c2c-0981-4d6a-8d41-7585bc9e4002",
   "metadata": {
    "tags": []
   },
   "outputs": [],
   "source": [
    "# import subprocess\n",
    "# import sys\n",
    "\n",
    "# filenames = sorted([fn for fn in os.listdir(f'{os.getcwd()}/wav') if fn.endswith('.wav')])\n",
    "# for fn in filenames:\n",
    "#     print(f'Extracting Vocal Stem from: {fn}')\n",
    "#     subprocess.run([f\"demucs -n htdemucs_6s 'wav/{fn}'\"], shell = True)"
   ]
  },
  {
   "cell_type": "markdown",
   "id": "6db4371c-1c32-410f-9370-a8a2f20cf160",
   "metadata": {},
   "source": [
    "## Move Songs"
   ]
  },
  {
   "cell_type": "code",
   "execution_count": 6,
   "id": "ecd8cde0-0d4e-4cf0-bf0a-a7646ae78fea",
   "metadata": {
    "tags": []
   },
   "outputs": [],
   "source": [
    "# for song_title in os.listdir(os.getcwd() + '/separated/htdemucs'):\n",
    "#     try:\n",
    "#         print(f'Renaming {song_title}...')\n",
    "#         os.rename(f\"{os.getcwd()}/separated/htdemucs/{song_title}/vocals.wav\", f\"{os.getcwd()}/separated/htdemucs/{song_title}/{song_title}_vocals.wav\")\n",
    "#         print(f'Copying {song_title}...')\n",
    "#         command = f\"cp '{os.getcwd()}/separated/htdemucs/{song_title}/{song_title}_vocals.wav' '{os.getcwd()}/separated/{song_title}_vocals.wav'\"\n",
    "#         print(f'\\tRunning Command: {command}\\n')\n",
    "#         subprocess.run([command], shell = True)\n",
    "#     except:\n",
    "#         pass"
   ]
  },
  {
   "cell_type": "markdown",
   "id": "25859813-ed81-48d2-9da0-8a53a32a8db1",
   "metadata": {},
   "source": [
    "## Transcription"
   ]
  },
  {
   "cell_type": "code",
   "execution_count": 8,
   "id": "d2537b44-2f96-4641-b59f-ff028c9afbee",
   "metadata": {},
   "outputs": [
    {
     "name": "stdout",
     "output_type": "stream",
     "text": [
      "/Users/ptan/Applications/anaconda/envs/pytorch/bin/python: can't open file '/Users/ptan/Desktop/Code/vocal-pro-x/notebooks/pip': [Errno 2] No such file or directory\n"
     ]
    }
   ],
   "source": [
    "import sys\n",
    "!{sys.executable} pip install 'git+https://github.com/openai/whisper.git'"
   ]
  },
  {
   "cell_type": "code",
   "execution_count": null,
   "id": "05ab78e1-f03b-4430-8f2c-b13cf8049fae",
   "metadata": {},
   "outputs": [],
   "source": []
  }
 ],
 "metadata": {
  "kernelspec": {
   "display_name": "Python 3 (ipykernel)",
   "language": "python",
   "name": "python3"
  },
  "language_info": {
   "codemirror_mode": {
    "name": "ipython",
    "version": 3
   },
   "file_extension": ".py",
   "mimetype": "text/x-python",
   "name": "python",
   "nbconvert_exporter": "python",
   "pygments_lexer": "ipython3",
   "version": "3.9.12"
  }
 },
 "nbformat": 4,
 "nbformat_minor": 5
}
