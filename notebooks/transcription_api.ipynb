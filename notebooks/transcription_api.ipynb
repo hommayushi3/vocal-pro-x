{
 "cells": [
  {
   "cell_type": "markdown",
   "id": "f310bb2d-f83e-40a4-ae10-ec1d73779d01",
   "metadata": {},
   "source": [
    "## Transcription API"
   ]
  },
  {
   "cell_type": "code",
   "execution_count": 72,
   "id": "7a8f7e20-1613-4871-874a-205a3aa66d0b",
   "metadata": {},
   "outputs": [],
   "source": [
    "from time import time\n",
    "  \n",
    "def timer(func):\n",
    "    def wrap_func(*args, **kwargs):\n",
    "        t1 = time()\n",
    "        result = func(*args, **kwargs)\n",
    "        t2 = time()\n",
    "        print(f'Function {func.__name__!r} executed in {(t2-t1):.4f}s')\n",
    "        return result\n",
    "    return wrap_func"
   ]
  },
  {
   "cell_type": "code",
   "execution_count": 73,
   "id": "c14e9c3d-90a5-4d76-80c0-d8aaed8a1aab",
   "metadata": {
    "tags": []
   },
   "outputs": [
    {
     "name": "stdin",
     "output_type": "stream",
     "text": [
      " https://www.youtube.com/watch?v=olXmoHwblhU\n"
     ]
    },
    {
     "name": "stdout",
     "output_type": "stream",
     "text": [
      "[ INFO    ] Starting conversion of mp4/olXmoHwblhU/.\n",
      "[ SUCCESS ] See wav for converted audio.\n",
      "\u001b[1mImportant: the default model was recently changed to `htdemucs`\u001b[0m the latest Hybrid Transformer Demucs model. In some cases, this model can actually perform worse than previous models. To get back the old default model use `-n mdx_extra_q`.\n",
      "Selected model is a bag of 1 models. You will see that many progress bars per track.\n",
      "Separated tracks will be stored in /Users/ptan/Desktop/Harmonai/separated/htdemucs\n",
      "Separating track wav/olXmoHwblhU.wav\n"
     ]
    },
    {
     "name": "stderr",
     "output_type": "stream",
     "text": [
      "100%|████████████████████████████████████████████████████████████████████████| 175.5/175.5 [01:56<00:00,  1.51seconds/s]\n",
      "/Users/ptan/Applications/anaconda/envs/pytorch/lib/python3.9/site-packages/stable_whisper/whisper_word_level.py:169: UserWarning: FP16 is not supported on CPU; using FP32 instead\n",
      "  warnings.warn(\"FP16 is not supported on CPU; using FP32 instead\")\n"
     ]
    },
    {
     "name": "stdout",
     "output_type": "stream",
     "text": [
      "Detected language: english\n",
      "Function 'transcribe' executed in 230.7385s\n"
     ]
    },
    {
     "data": {
      "text/plain": [
       "{'lyric_lines': '[{\"Line\":0,\"Text\":\" Hmm\"},{\"Line\":1,\"Text\":\" I\"},{\"Line\":2,\"Text\":\" Waited till I saw the sun\"},{\"Line\":3,\"Text\":\" I don\\'t know why I didn\\'t come\"},{\"Line\":4,\"Text\":\" Left you by the house of fun. Oh\"},{\"Line\":5,\"Text\":\" Don\\'t know why I didn\\'t come\"},{\"Line\":6,\"Text\":\" I\"},{\"Line\":7,\"Text\":\" Don\\'t know why I didn\\'t come\"},{\"Line\":8,\"Text\":\" When I saw the break of day\"},{\"Line\":9,\"Text\":\" I wish that I could fly away\"},{\"Line\":10,\"Text\":\" I\"},{\"Line\":11,\"Text\":\" Instead of kneeling in the sand\"},{\"Line\":12,\"Text\":\" Catching teardrops in my hand my heart is\"},{\"Line\":13,\"Text\":\" Drenched in wine\"},{\"Line\":14,\"Text\":\" You behind my mind forever\"},{\"Line\":15,\"Text\":\" Forever\"},{\"Line\":16,\"Text\":\" ever\"},{\"Line\":17,\"Text\":\" Out across the endless sea\"},{\"Line\":18,\"Text\":\" I would die in ecstasy\"},{\"Line\":19,\"Text\":\" But I\\'ll be a beggar bones\"},{\"Line\":20,\"Text\":\" Dropping down this road alone\"},{\"Line\":21,\"Text\":\" My heart is\"},{\"Line\":22,\"Text\":\" Drenched in wine\"},{\"Line\":23,\"Text\":\" Oh\"},{\"Line\":24,\"Text\":\" And you\\'ll be\"},{\"Line\":25,\"Text\":\" My mind forever\"},{\"Line\":26,\"Text\":\" Hmm something has to make you run\"},{\"Line\":27,\"Text\":\" I don\\'t know why I didn\\'t come I\"},{\"Line\":28,\"Text\":\" Feel as empty as a drum\"},{\"Line\":29,\"Text\":\" I\"},{\"Line\":30,\"Text\":\" Don\\'t know why I didn\\'t come\"},{\"Line\":31,\"Text\":\" I don\\'t know why I didn\\'t come\"},{\"Line\":32,\"Text\":\" I don\\'t know why\"},{\"Line\":33,\"Text\":\" I didn\\'t come\"}]',\n",
       " 'word_timestamps': '[{\"word\":\" Hmm\",\"timestamp\":7.0},{\"word\":\" I\",\"timestamp\":20.76},{\"word\":\" Wait\",\"timestamp\":22.0399996948},{\"word\":\"ed\",\"timestamp\":22.1999998093},{\"word\":\" till\",\"timestamp\":22.279999733},{\"word\":\" I\",\"timestamp\":22.7999992371},{\"word\":\" saw\",\"timestamp\":22.9199991226},{\"word\":\" the\",\"timestamp\":23.07999897},{\"word\":\" sun\",\"timestamp\":23.3999996185},{\"word\":\" I\",\"timestamp\":24.0799999237},{\"word\":\" don\",\"timestamp\":27.3999996185},{\"word\":\"\\'t\",\"timestamp\":27.3999996185},{\"word\":\" know\",\"timestamp\":28.6800003052},{\"word\":\" why\",\"timestamp\":28.6800003052},{\"word\":\" I\",\"timestamp\":28.6800003052},{\"word\":\" didn\",\"timestamp\":28.7199993134},{\"word\":\"\\'t\",\"timestamp\":28.7600002289},{\"word\":\" come\",\"timestamp\":28.7600002289},{\"word\":\" Left\",\"timestamp\":32.8400001526},{\"word\":\" you\",\"timestamp\":32.8400001526},{\"word\":\" by\",\"timestamp\":32.9599990845},{\"word\":\" the\",\"timestamp\":33.0},{\"word\":\" house\",\"timestamp\":33.0400009155},{\"word\":\" of\",\"timestamp\":33.1599998474},{\"word\":\" fun\",\"timestamp\":33.3199996948},{\"word\":\".\",\"timestamp\":33.3600006104},{\"word\":\" Oh\",\"timestamp\":33.6800003052},{\"word\":\" Don\",\"timestamp\":35.6800003052},{\"word\":\"\\'t\",\"timestamp\":36.3199996948},{\"word\":\" know\",\"timestamp\":36.5600013733},{\"word\":\" why\",\"timestamp\":36.6399993896},{\"word\":\" I\",\"timestamp\":36.7200012207},{\"word\":\" didn\",\"timestamp\":36.9599990845},{\"word\":\"\\'t\",\"timestamp\":37.1299991608},{\"word\":\" come\",\"timestamp\":37.2000007629},{\"word\":\" I\",\"timestamp\":38.4000015259},{\"word\":\" Don\",\"timestamp\":40.1199989319},{\"word\":\"\\'t\",\"timestamp\":40.3800010681},{\"word\":\" know\",\"timestamp\":40.8000011444},{\"word\":\" why\",\"timestamp\":40.9199981689},{\"word\":\" I\",\"timestamp\":41.0},{\"word\":\" didn\",\"timestamp\":41.2399978638},{\"word\":\"\\'t\",\"timestamp\":41.4400005341},{\"word\":\" come\",\"timestamp\":41.5200004578},{\"word\":\" When\",\"timestamp\":44.5599993896},{\"word\":\" I\",\"timestamp\":44.8400001526},{\"word\":\" saw\",\"timestamp\":44.9599990845},{\"word\":\" the\",\"timestamp\":45.2399997711},{\"word\":\" break\",\"timestamp\":45.5199985504},{\"word\":\" of\",\"timestamp\":45.9199981689},{\"word\":\" day\",\"timestamp\":46.0},{\"word\":\" I\",\"timestamp\":48.4799993896},{\"word\":\" wish\",\"timestamp\":48.5599994659},{\"word\":\" that\",\"timestamp\":49.0800018311},{\"word\":\" I\",\"timestamp\":49.3199996948},{\"word\":\" could\",\"timestamp\":49.4799995422},{\"word\":\" fly\",\"timestamp\":49.8000011444},{\"word\":\" away\",\"timestamp\":50.0799999237},{\"word\":\" I\",\"timestamp\":51.0900001526},{\"word\":\" Instead\",\"timestamp\":53.5800018311},{\"word\":\" of\",\"timestamp\":53.9600009918},{\"word\":\" kne\",\"timestamp\":54.1599998474},{\"word\":\"eling\",\"timestamp\":54.2000007629},{\"word\":\" in\",\"timestamp\":54.5600013733},{\"word\":\" the\",\"timestamp\":54.7600021362},{\"word\":\" sand\",\"timestamp\":55.2400016785},{\"word\":\" Catch\",\"timestamp\":58.1599998474},{\"word\":\"ing\",\"timestamp\":58.1800003052},{\"word\":\" te\",\"timestamp\":59.1200008392},{\"word\":\"ard\",\"timestamp\":59.4899997711},{\"word\":\"rops\",\"timestamp\":59.4899997711},{\"word\":\" in\",\"timestamp\":59.640001297},{\"word\":\" my\",\"timestamp\":59.8000011444},{\"word\":\" hand\",\"timestamp\":60.0799999237},{\"word\":\" my\",\"timestamp\":60.6000003815},{\"word\":\" heart\",\"timestamp\":61.6800003052},{\"word\":\" is\",\"timestamp\":62.1200008392},{\"word\":\" D\",\"timestamp\":64.8800048828},{\"word\":\"renched\",\"timestamp\":65.360004425},{\"word\":\" in\",\"timestamp\":65.4000015259},{\"word\":\" wine\",\"timestamp\":65.7200012207},{\"word\":\" You\",\"timestamp\":72.0800013733},{\"word\":\" behind\",\"timestamp\":72.8000030518},{\"word\":\" my\",\"timestamp\":73.2399978638},{\"word\":\" mind\",\"timestamp\":73.7600021362},{\"word\":\" forever\",\"timestamp\":74.7600021362},{\"word\":\" Forever\",\"timestamp\":76.9899940491},{\"word\":\" ever\",\"timestamp\":78.8999938965},{\"word\":\" Out\",\"timestamp\":80.9799975586},{\"word\":\" across\",\"timestamp\":81.0999946594},{\"word\":\" the\",\"timestamp\":81.7399940491},{\"word\":\" endless\",\"timestamp\":82.0999984741},{\"word\":\" sea\",\"timestamp\":82.2999954224},{\"word\":\" I\",\"timestamp\":85.6199951172},{\"word\":\" would\",\"timestamp\":85.6199951172},{\"word\":\" die\",\"timestamp\":86.0599975586},{\"word\":\" in\",\"timestamp\":86.219997406},{\"word\":\" ec\",\"timestamp\":86.3399963379},{\"word\":\"st\",\"timestamp\":86.6299981689},{\"word\":\"asy\",\"timestamp\":86.6299981689},{\"word\":\" But\",\"timestamp\":89.86},{\"word\":\" I\",\"timestamp\":90.2599983215},{\"word\":\"\\'ll\",\"timestamp\":90.3799934387},{\"word\":\" be\",\"timestamp\":90.5799942017},{\"word\":\" a\",\"timestamp\":90.6999969482},{\"word\":\" begg\",\"timestamp\":90.8699951172},{\"word\":\"ar\",\"timestamp\":90.9899940491},{\"word\":\" bones\",\"timestamp\":91.3799972534},{\"word\":\" Dro\",\"timestamp\":94.3799972534},{\"word\":\"pping\",\"timestamp\":94.7599983215},{\"word\":\" down\",\"timestamp\":94.7799987793},{\"word\":\" this\",\"timestamp\":95.1799964905},{\"word\":\" road\",\"timestamp\":95.5399971008},{\"word\":\" alone\",\"timestamp\":95.7799949646},{\"word\":\" My\",\"timestamp\":98.6599975586},{\"word\":\" heart\",\"timestamp\":99.2599945068},{\"word\":\" is\",\"timestamp\":99.3799972534},{\"word\":\" D\",\"timestamp\":101.3799972534},{\"word\":\"renched\",\"timestamp\":101.8199958801},{\"word\":\" in\",\"timestamp\":101.8999938965},{\"word\":\" wine\",\"timestamp\":102.0999946594},{\"word\":\" Oh\",\"timestamp\":102.5999984741},{\"word\":\" And\",\"timestamp\":108.3399963379},{\"word\":\" you\",\"timestamp\":108.6199989319},{\"word\":\"\\'ll\",\"timestamp\":108.8199958801},{\"word\":\" be\",\"timestamp\":108.8999977112},{\"word\":\" My\",\"timestamp\":109.5800018311},{\"word\":\" mind\",\"timestamp\":130.6600036621},{\"word\":\" forever\",\"timestamp\":130.8200073242},{\"word\":\" Hmm\",\"timestamp\":131.2499923706},{\"word\":\" something\",\"timestamp\":135.8799972534},{\"word\":\" has\",\"timestamp\":135.9799957275},{\"word\":\" to\",\"timestamp\":136.0599899292},{\"word\":\" make\",\"timestamp\":136.189994812},{\"word\":\" you\",\"timestamp\":136.4999923706},{\"word\":\" run\",\"timestamp\":136.8600006104},{\"word\":\" I\",\"timestamp\":140.1399917603},{\"word\":\" don\",\"timestamp\":140.1399917603},{\"word\":\"\\'t\",\"timestamp\":140.3799972534},{\"word\":\" know\",\"timestamp\":140.3799972534},{\"word\":\" why\",\"timestamp\":140.5},{\"word\":\" I\",\"timestamp\":140.7799987793},{\"word\":\" didn\",\"timestamp\":140.8999938965},{\"word\":\"\\'t\",\"timestamp\":141.3099975586},{\"word\":\" come\",\"timestamp\":141.4199981689},{\"word\":\" I\",\"timestamp\":141.939994812},{\"word\":\" Feel\",\"timestamp\":144.4599957275},{\"word\":\" as\",\"timestamp\":145.0199966431},{\"word\":\" empty\",\"timestamp\":145.0999908447},{\"word\":\" as\",\"timestamp\":145.3399963379},{\"word\":\" a\",\"timestamp\":145.5400009155},{\"word\":\" drum\",\"timestamp\":145.6199951172},{\"word\":\" I\",\"timestamp\":146.9799957275},{\"word\":\" Don\",\"timestamp\":148.4599990845},{\"word\":\"\\'t\",\"timestamp\":148.7299957275},{\"word\":\" know\",\"timestamp\":149.3399963379},{\"word\":\" why\",\"timestamp\":149.4199981689},{\"word\":\" I\",\"timestamp\":149.5400009155},{\"word\":\" didn\",\"timestamp\":149.6599884033},{\"word\":\"\\'t\",\"timestamp\":149.8699951172},{\"word\":\" come\",\"timestamp\":150.1399993896},{\"word\":\" I\",\"timestamp\":152.3399987793},{\"word\":\" don\",\"timestamp\":152.6199951172},{\"word\":\"\\'t\",\"timestamp\":152.8999938965},{\"word\":\" know\",\"timestamp\":153.0199966431},{\"word\":\" why\",\"timestamp\":153.2599945068},{\"word\":\" I\",\"timestamp\":153.5800018311},{\"word\":\" didn\",\"timestamp\":153.6599884033},{\"word\":\"\\'t\",\"timestamp\":154.4199981689},{\"word\":\" come\",\"timestamp\":154.6999969482},{\"word\":\" I\",\"timestamp\":156.7799957275},{\"word\":\" don\",\"timestamp\":157.1399917603},{\"word\":\"\\'t\",\"timestamp\":157.3099975586},{\"word\":\" know\",\"timestamp\":157.6599884033},{\"word\":\" why\",\"timestamp\":157.859992981},{\"word\":\" I\",\"timestamp\":158.2700042725},{\"word\":\" didn\",\"timestamp\":159.8200073242},{\"word\":\"\\'t\",\"timestamp\":159.8600082397},{\"word\":\" come\",\"timestamp\":159.9400024414}]',\n",
       " 'instrumental_filepath': '/Users/ptan/Desktop/Harmonai/separated/htdemucs/olXmoHwblhU/no_vocals.wav'}"
      ]
     },
     "execution_count": 73,
     "metadata": {},
     "output_type": "execute_result"
    }
   ],
   "source": [
    "_input = {\n",
    "    'yt_link': input()\n",
    "}\n",
    "\n",
    "@timer\n",
    "def transcribe(_input):\n",
    "    \n",
    "    import os\n",
    "    import re\n",
    "    import subprocess\n",
    "    from pytube import YouTube\n",
    "    from stable_whisper import load_model\n",
    "    from functools import reduce\n",
    "    \n",
    "    # Download audio stream of YouTube video\n",
    "    video = YouTube(_input['yt_link'])\n",
    "    video_id = video.video_id\n",
    "\n",
    "    mp4_audio_stream = video\\\n",
    "    .streams\\\n",
    "    .filter(only_audio=True)\\\n",
    "    .filter(file_extension='mp4')\\\n",
    "    .order_by('abr')\\\n",
    "    .last()\\\n",
    "    .download(output_path = f'{os.getcwd()}/mp4/{video_id}/', filename = f'{video_id}.mp4')\n",
    "    \n",
    "    # Convert MP4 to WAV\n",
    "    subprocess.run([f\"audioconvert convert mp4/{video_id}/ wav/ --output-format .wav\"], shell = True)\n",
    "    \n",
    "    # Split Vocals / Instrumentals\n",
    "    subprocess.run([f\"demucs --two-stems=vocals 'wav/{video_id}.wav'\"], shell = True)\n",
    "    \n",
    "    # Transcribe Lyrics\n",
    "    whisper_model = load_model('medium')\n",
    "    segments = model.transcribe(f\"{os.getcwd()}/separated/htdemucs/{video_id}/vocals.wav\")['segments']\n",
    "    \n",
    "    lyrics = pd.DataFrame([\n",
    "        {'Line': segment['id'], 'Text': segment['text']} for segment in segments\n",
    "    ]).to_json(orient = 'records')\n",
    "    word_ts = pd.DataFrame(\n",
    "        reduce(lambda x,y: x + y, [segment['word_timestamps'] for segment in segments])\n",
    "    ).drop('token', axis = 1)\\\n",
    "    .to_json(orient = 'records')\n",
    "    instrumental_filepath = f\"{os.getcwd()}/separated/htdemucs/{video_id}/no_vocals.wav\"\n",
    "    \n",
    "    return {\n",
    "        'lyric_lines': lyrics,\n",
    "        'word_timestamps': word_ts,\n",
    "        'instrumental_filepath': instrumental_filepath\n",
    "    }\n",
    "    \n",
    "transcribe(_input)"
   ]
  }
 ],
 "metadata": {
  "kernelspec": {
   "display_name": "Python 3 (ipykernel)",
   "language": "python",
   "name": "python3"
  },
  "language_info": {
   "codemirror_mode": {
    "name": "ipython",
    "version": 3
   },
   "file_extension": ".py",
   "mimetype": "text/x-python",
   "name": "python",
   "nbconvert_exporter": "python",
   "pygments_lexer": "ipython3",
   "version": "3.9.12"
  }
 },
 "nbformat": 4,
 "nbformat_minor": 5
}
